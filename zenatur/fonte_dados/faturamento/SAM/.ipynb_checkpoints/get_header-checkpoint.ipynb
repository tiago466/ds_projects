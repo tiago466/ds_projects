{
 "cells": [
  {
   "cell_type": "code",
   "execution_count": 53,
   "id": "c130bc8c-31f1-44fb-9812-6ec155d6e4b3",
   "metadata": {},
   "outputs": [],
   "source": [
    "# IMPORTS\n",
    "\n",
    "import pandas as pd"
   ]
  },
  {
   "cell_type": "code",
   "execution_count": 54,
   "id": "4e8a9696-9aae-4479-8005-45923d6e9e62",
   "metadata": {},
   "outputs": [],
   "source": [
    "# FILES AND FOLDERS\n",
    "\n",
    "folder_path = \"C:\\\\Users\\\\tiago.lima\\\\_dc_project\\\\fonte_dados\\\\faturamento\\\\SAM\\\\frete\"\n",
    "file = \"12 - Frete Dezembro 2023 - Geral - Cliente.xlsx\"\n",
    "file_path = f\"{folder_path}/{file}\""
   ]
  },
  {
   "cell_type": "code",
   "execution_count": 55,
   "id": "5843f7fd-5ee5-421a-aa95-0728776a30ca",
   "metadata": {},
   "outputs": [],
   "source": [
    "# METHODS\n",
    "\n",
    "# DIFINE SKIPROWS\n",
    "def determine_skiprows(file_path, sheet_name):\n",
    "    # Leitura inicial para inspecionar as primeiras linhas do arquivo\n",
    "    sample_data = pd.read_excel(file_path, sheet_name=sheet_name, nrows=10, engine=\"openpyxl\")\n",
    "    \n",
    "    # Identifica a linha onde a coluna 1 contém o primeiro valor não nulo\n",
    "    for i, value in enumerate(sample_data.iloc[:, 0], start=1):\n",
    "        if not pd.isnull(value):\n",
    "            return i\n",
    "\n",
    "    # Se não encontrarmos dados nas primeiras 10 linhas, padrão para 0\n",
    "    return 0"
   ]
  },
  {
   "cell_type": "code",
   "execution_count": 56,
   "id": "f9ec64a8-3a96-4dab-93e5-9a6ed83b256d",
   "metadata": {},
   "outputs": [],
   "source": [
    "# SHEETS\n",
    "\n",
    "sheet_name = 'Geral'\n",
    "skiprows = determine_skiprows(file_path,sheet_name)"
   ]
  },
  {
   "cell_type": "code",
   "execution_count": 57,
   "id": "a7f743b7-289b-402c-a812-9ac481304d77",
   "metadata": {},
   "outputs": [],
   "source": [
    "df = pd.read_excel(file_path ,sheet_name=sheet_name ,skiprows=skiprows ,engine=\"openpyxl\")"
   ]
  },
  {
   "cell_type": "code",
   "execution_count": 58,
   "id": "9b7a379e-92be-44bc-8e07-0a77ab9b70b9",
   "metadata": {},
   "outputs": [
    {
     "name": "stdout",
     "output_type": "stream",
     "text": [
      "['SOLICITANTE', 'SS', 'N° OS', 'GRUPO', 'SUBGRUPO', 'CAMPANHA', 'PRODUTO', 'DATA SOLICITAÇÃO', 'DESTINATARIO', 'CNPJ', 'CIDADE', 'UF', 'REGIÃO', 'PESO', 'VALOR NF', 'AD VALOREM', 'MODAL', 'TIPO', 'FRETE', 'DIARIA', 'ICMS', 'DIFAL', 'ESCOLTA', 'FRETE + IMPOSTOS', 'Unnamed: 24']\n"
     ]
    }
   ],
   "source": [
    "# COLUMN LIST\n",
    "header = df.columns.tolist()\n",
    "print(header)"
   ]
  },
  {
   "cell_type": "code",
   "execution_count": 59,
   "id": "32d8d55d-d05f-4601-ac90-16758b3795d4",
   "metadata": {},
   "outputs": [
    {
     "data": {
      "text/plain": [
       "'Unnamed: 24'"
      ]
     },
     "execution_count": 59,
     "metadata": {},
     "output_type": "execute_result"
    }
   ],
   "source": [
    "# PRINT COLUMN NAME\n",
    "header[24]"
   ]
  },
  {
   "cell_type": "code",
   "execution_count": 60,
   "id": "bc097a50-8d4c-464b-8734-91979eee4a82",
   "metadata": {},
   "outputs": [
    {
     "data": {
      "text/plain": [
       "25"
      ]
     },
     "execution_count": 60,
     "metadata": {},
     "output_type": "execute_result"
    }
   ],
   "source": [
    "# COUNT COLUMNS\n",
    "len(header)"
   ]
  },
  {
   "cell_type": "code",
   "execution_count": 68,
   "id": "29b738bd-346f-4c77-84a2-29b33b024068",
   "metadata": {},
   "outputs": [
    {
     "name": "stdout",
     "output_type": "stream",
     "text": [
      "SOLICITANTE\n",
      "SS\n",
      "N° OS\n",
      "GRUPO\n",
      "SUBGRUPO\n",
      "CAMPANHA\n",
      "PRODUTO\n",
      "DATA SOLICITAÇÃO\n",
      "DESTINATARIO\n",
      "CNPJ\n",
      "CIDADE\n",
      "UF\n",
      "REGIÃO\n",
      "PESO\n",
      "VALOR NF\n",
      "AD VALOREM\n",
      "MODAL\n",
      "TIPO\n",
      "FRETE\n",
      "DIARIA\n",
      "ICMS\n",
      "DIFAL\n",
      "ESCOLTA\n",
      "FRETE + IMPOSTOS\n",
      "Unnamed: 24\n"
     ]
    }
   ],
   "source": [
    "for col in header:\n",
    "    print(col)"
   ]
  },
  {
   "cell_type": "code",
   "execution_count": null,
   "id": "ed912134-77c3-4843-add1-e3776561c764",
   "metadata": {},
   "outputs": [],
   "source": []
  }
 ],
 "metadata": {
  "kernelspec": {
   "display_name": "Python 3 (ipykernel)",
   "language": "python",
   "name": "python3"
  },
  "language_info": {
   "codemirror_mode": {
    "name": "ipython",
    "version": 3
   },
   "file_extension": ".py",
   "mimetype": "text/x-python",
   "name": "python",
   "nbconvert_exporter": "python",
   "pygments_lexer": "ipython3",
   "version": "3.11.5"
  }
 },
 "nbformat": 4,
 "nbformat_minor": 5
}
