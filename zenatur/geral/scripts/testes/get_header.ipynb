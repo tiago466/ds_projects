{
 "cells": [
  {
   "cell_type": "code",
   "execution_count": 4,
   "id": "c130bc8c-31f1-44fb-9812-6ec155d6e4b3",
   "metadata": {},
   "outputs": [],
   "source": [
    "# IMPORTS\n",
    "\n",
    "import pandas as pd"
   ]
  },
  {
   "cell_type": "code",
   "execution_count": 6,
   "id": "4e8a9696-9aae-4479-8005-45923d6e9e62",
   "metadata": {},
   "outputs": [],
   "source": [
    "# FILES AND FOLDERS\n",
    "\n",
    "folder_path = \"C:\\\\Users\\\\tiago.lima\\\\ds_projects\\\\zenatur\\\\geral\\\\fonte_dados\\\\faturamento\\\\SAM\\\\frete\"\n",
    "file = \"12 - Frete Dezembro 2023 - Geral - Cliente.xlsx\"\n",
    "file_path = f\"{folder_path}/{file}\""
   ]
  },
  {
   "cell_type": "code",
   "execution_count": 8,
   "id": "5843f7fd-5ee5-421a-aa95-0728776a30ca",
   "metadata": {},
   "outputs": [],
   "source": [
    "# METHODS\n",
    "\n",
    "# DIFINE SKIPROWS\n",
    "def determine_skiprows(file_path, sheet_name):\n",
    "    # Leitura inicial para inspecionar as primeiras linhas do arquivo\n",
    "    sample_data = pd.read_excel(file_path, sheet_name=sheet_name, nrows=10, engine=\"openpyxl\")\n",
    "    \n",
    "    # Identifica a linha onde a coluna 1 contém o primeiro valor não nulo\n",
    "    for i, value in enumerate(sample_data.iloc[:, 0], start=1):\n",
    "        if not pd.isnull(value):\n",
    "            return i\n",
    "\n",
    "    # Se não encontrarmos dados nas primeiras 10 linhas, padrão para 0\n",
    "    return 0"
   ]
  },
  {
   "cell_type": "code",
   "execution_count": 10,
   "id": "f9ec64a8-3a96-4dab-93e5-9a6ed83b256d",
   "metadata": {},
   "outputs": [],
   "source": [
    "# SHEETS\n",
    "\n",
    "sheet_name = 'Geral'\n",
    "skiprows = determine_skiprows(file_path,sheet_name)"
   ]
  },
  {
   "cell_type": "code",
   "execution_count": 12,
   "id": "a7f743b7-289b-402c-a812-9ac481304d77",
   "metadata": {},
   "outputs": [],
   "source": [
    "df = pd.read_excel(file_path ,sheet_name=sheet_name ,skiprows=skiprows ,engine=\"openpyxl\")"
   ]
  },
  {
   "cell_type": "code",
   "execution_count": 14,
   "id": "9b7a379e-92be-44bc-8e07-0a77ab9b70b9",
   "metadata": {},
   "outputs": [
    {
     "name": "stdout",
     "output_type": "stream",
     "text": [
      "['ROSEMEIRE COLONHESI', 3593715, '031204/23', 'BRANDSHOP', 'BRANDSHOP.1', '(12023) ENTREGA DE POSITIVACAO SES METROPOLE', 'Unnamed: 6', datetime.datetime(2023, 12, 7, 0, 0), 'CIL COMERCIO DE INFORMATICA LTDA', 24073694004908, 'SÃO BERNARDO DO CAMPO', 'SP', 'CAPITAL', 711, 96164.960014, 269.2618880392, 'EXCLUSIVO', 'Unnamed: 17', 935.9794182263636, 'Unnamed: 19', 'Unnamed: 20', 'Unnamed: 21', 'Unnamed: 22', '935.9794182263636.1', 'Unnamed: 24']\n"
     ]
    }
   ],
   "source": [
    "# COLUMN LIST\n",
    "header = df.columns.tolist()\n",
    "print(header)"
   ]
  },
  {
   "cell_type": "code",
   "execution_count": 16,
   "id": "32d8d55d-d05f-4601-ac90-16758b3795d4",
   "metadata": {},
   "outputs": [
    {
     "data": {
      "text/plain": [
       "'Unnamed: 24'"
      ]
     },
     "execution_count": 16,
     "metadata": {},
     "output_type": "execute_result"
    }
   ],
   "source": [
    "# PRINT COLUMN NAME\n",
    "header[24]"
   ]
  },
  {
   "cell_type": "code",
   "execution_count": 18,
   "id": "bc097a50-8d4c-464b-8734-91979eee4a82",
   "metadata": {},
   "outputs": [
    {
     "data": {
      "text/plain": [
       "25"
      ]
     },
     "execution_count": 18,
     "metadata": {},
     "output_type": "execute_result"
    }
   ],
   "source": [
    "# COUNT COLUMNS\n",
    "len(header)"
   ]
  },
  {
   "cell_type": "code",
   "execution_count": 20,
   "id": "29b738bd-346f-4c77-84a2-29b33b024068",
   "metadata": {},
   "outputs": [
    {
     "name": "stdout",
     "output_type": "stream",
     "text": [
      "ROSEMEIRE COLONHESI\n",
      "3593715\n",
      "031204/23\n",
      "BRANDSHOP\n",
      "BRANDSHOP.1\n",
      "(12023) ENTREGA DE POSITIVACAO SES METROPOLE\n",
      "Unnamed: 6\n",
      "2023-12-07 00:00:00\n",
      "CIL COMERCIO DE INFORMATICA LTDA\n",
      "24073694004908\n",
      "SÃO BERNARDO DO CAMPO\n",
      "SP\n",
      "CAPITAL\n",
      "711\n",
      "96164.960014\n",
      "269.2618880392\n",
      "EXCLUSIVO\n",
      "Unnamed: 17\n",
      "935.9794182263636\n",
      "Unnamed: 19\n",
      "Unnamed: 20\n",
      "Unnamed: 21\n",
      "Unnamed: 22\n",
      "935.9794182263636.1\n",
      "Unnamed: 24\n"
     ]
    }
   ],
   "source": [
    "for col in header:\n",
    "    print(col)"
   ]
  },
  {
   "cell_type": "code",
   "execution_count": 22,
   "id": "ed912134-77c3-4843-add1-e3776561c764",
   "metadata": {},
   "outputs": [],
   "source": [
    "@staticmethod\n",
    "def read_xlsx(file_path, sheet_name,skiprows):\n",
    "    try:\n",
    "        df = pd.read_excel(file_path, sheet_name=sheet_name, skiprows=skiprows)\n",
    "        return df.fillna(0)\n",
    "    except Exception as e:\n",
    "        print(f\"Erro ao ler o arquivo Excel: {e}\")\n",
    "        return pd.DataFrame()  # Retorna um DataFrame vazio em caso de erro"
   ]
  },
  {
   "cell_type": "code",
   "execution_count": 24,
   "id": "a9409cc4-ab57-41c7-b9c4-8034aacac0ec",
   "metadata": {},
   "outputs": [],
   "source": [
    "df = read_xlsx(file_path, sheet_name,skiprows)"
   ]
  },
  {
   "cell_type": "code",
   "execution_count": 25,
   "id": "798baf51-5877-403c-9d11-200cfa00fe8e",
   "metadata": {},
   "outputs": [],
   "source": [
    "tst = df.columns.tolist()"
   ]
  },
  {
   "cell_type": "code",
   "execution_count": 28,
   "id": "cd5f6ec0-aca8-4a74-b39c-39d261c23c67",
   "metadata": {},
   "outputs": [
    {
     "data": {
      "text/plain": [
       "'ROSEMEIRE COLONHESI'"
      ]
     },
     "execution_count": 28,
     "metadata": {},
     "output_type": "execute_result"
    }
   ],
   "source": [
    "tst[0]"
   ]
  },
  {
   "cell_type": "code",
   "execution_count": null,
   "id": "4d8b3313-9de4-4d64-9478-f6ddb1e0d000",
   "metadata": {},
   "outputs": [],
   "source": []
  }
 ],
 "metadata": {
  "kernelspec": {
   "display_name": "Python 3 (ipykernel)",
   "language": "python",
   "name": "python3"
  },
  "language_info": {
   "codemirror_mode": {
    "name": "ipython",
    "version": 3
   },
   "file_extension": ".py",
   "mimetype": "text/x-python",
   "name": "python",
   "nbconvert_exporter": "python",
   "pygments_lexer": "ipython3",
   "version": "3.11.5"
  }
 },
 "nbformat": 4,
 "nbformat_minor": 5
}
