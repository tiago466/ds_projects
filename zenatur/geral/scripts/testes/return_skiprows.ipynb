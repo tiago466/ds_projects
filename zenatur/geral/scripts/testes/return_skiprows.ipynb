{
 "cells": [
  {
   "cell_type": "code",
   "execution_count": 5,
   "id": "87c0840c-250c-4495-85fa-332e4201099a",
   "metadata": {
    "tags": []
   },
   "outputs": [],
   "source": [
    "# IMPORTS\n",
    "import pandas as pd\n",
    "#import openpyxl"
   ]
  },
  {
   "cell_type": "code",
   "execution_count": 7,
   "id": "cfa6e9aa-8b9d-409e-86a8-f6d8e96145c1",
   "metadata": {},
   "outputs": [],
   "source": [
    "# INFORMATIONS FILE AND DATA\n",
    "#FILES\n",
    "# SAM\n",
    "folder_path_sam = \"C:\\\\Users\\\\tiago.lima\\\\ds_projects\\\\zenatur\\\\geral\\\\fonte_dados\\\\faturamento\\\\SAM\\\\frete\"\n",
    "file_sam = \"12 - Frete Dezembro 2023 - Geral - Cliente.xlsx\"\n",
    "file_path_sam = f\"{folder_path_sam}/{file_sam}\"\n",
    "\n",
    "# JAN\n",
    "folder_path_jan = \"C:\\\\Users\\\\tiago.lima\\\\ds_projects\\\\zenatur\\\\geral\\\\fonte_dados\\\\faturamento\\\\JAN\\\\frete\"\n",
    "#folder_path_jan = \"I:\\\\Negocios\\\\JAN- Janssen\\\\FATURAMENTO\\\\RPA\\\\frete\"\n",
    "file_jan = \"01 - Frete Janeiro 2023 JAN.xlsx\"\n",
    "file_path_jan = f\"{folder_path_jan}/{file_jan}\"\n",
    "\n",
    "#SHEET\n",
    "sheet_name = \"Geral\"\n",
    "skiprows = 0"
   ]
  },
  {
   "cell_type": "code",
   "execution_count": 9,
   "id": "2ffe2c43-096f-4686-a140-5c71eaa4c340",
   "metadata": {},
   "outputs": [],
   "source": [
    "# READ EXCEL(.xlsx)"
   ]
  },
  {
   "cell_type": "code",
   "execution_count": 11,
   "id": "c8c711c3-0d66-4f8b-9c29-6f3f89d43747",
   "metadata": {},
   "outputs": [],
   "source": [
    "def determine_skiprows(file_path, sheet_name):\n",
    "    # Leitura inicial para inspecionar as primeiras linhas do arquivo\n",
    "    sample_data = pd.read_excel(file_path, sheet_name=sheet_name, header=None, usecols=\"A:H\", engine=\"openpyxl\")\n",
    "\n",
    "    # Conta as linhas vazias até encontrar a primeira linha com dados\n",
    "    empty_rows_count = 0\n",
    "    for _, row in sample_data.iterrows():\n",
    "        if row.isnull().all():\n",
    "            empty_rows_count += 1\n",
    "        else:\n",
    "            break\n",
    "\n",
    "    return empty_rows_count"
   ]
  },
  {
   "cell_type": "code",
   "execution_count": 13,
   "id": "a1bb4320-088e-4082-a876-a9a9db67c6b9",
   "metadata": {},
   "outputs": [],
   "source": [
    "skiprows_sam = determine_skiprows(file_path_sam, sheet_name)"
   ]
  },
  {
   "cell_type": "code",
   "execution_count": 14,
   "id": "34c77f67-3ddb-4d4a-b62d-d6f8f86d76e2",
   "metadata": {},
   "outputs": [],
   "source": [
    "skiprows_jan = determine_skiprows(file_path_jan, sheet_name)"
   ]
  },
  {
   "cell_type": "code",
   "execution_count": 17,
   "id": "79869810-abea-47ad-9c04-698b8427fa66",
   "metadata": {},
   "outputs": [
    {
     "name": "stdout",
     "output_type": "stream",
     "text": [
      "SKIPROWS SAM: 0\n",
      "SKIPROWS JAN: 2\n"
     ]
    }
   ],
   "source": [
    "print(f'SKIPROWS SAM: {skiprows_sam}')\n",
    "print(f'SKIPROWS JAN: {skiprows_jan}')"
   ]
  },
  {
   "cell_type": "code",
   "execution_count": null,
   "id": "94fb5be2-a73c-45d4-bc61-7c4ee537e835",
   "metadata": {},
   "outputs": [],
   "source": []
  }
 ],
 "metadata": {
  "kernelspec": {
   "display_name": "Python 3 (ipykernel)",
   "language": "python",
   "name": "python3"
  },
  "language_info": {
   "codemirror_mode": {
    "name": "ipython",
    "version": 3
   },
   "file_extension": ".py",
   "mimetype": "text/x-python",
   "name": "python",
   "nbconvert_exporter": "python",
   "pygments_lexer": "ipython3",
   "version": "3.11.5"
  }
 },
 "nbformat": 4,
 "nbformat_minor": 5
}
