{
 "cells": [
  {
   "cell_type": "code",
   "execution_count": 44,
   "id": "cd4e85dd-d161-4472-8864-5f264e6442e3",
   "metadata": {},
   "outputs": [],
   "source": [
    "# IMPORTS\n",
    "import pandas as pd\n",
    "import openpyxl"
   ]
  },
  {
   "cell_type": "code",
   "execution_count": 50,
   "id": "53bc1c5f-e689-4d98-9571-4822d54d3e49",
   "metadata": {},
   "outputs": [],
   "source": [
    "# INFORMATIONS FILE AND DATA\n",
    "#FILES\n",
    "folder_path = \"C:\\\\Users\\\\tiago.lima\\\\_dc_project\\\\fonte_dados\\\\faturamento\\\\JAN\\\\armazenagem\"\n",
    "file = \"01 - Armazenagem Janeiro 2023  JAN.xlsx\"\n",
    "file_path = f\"{folder_path}/{file}\"\n",
    "\n",
    "#SHEET\n",
    "sheet_name = \"Bases\"\n",
    "\n",
    "\n",
    "skiprows = 0"
   ]
  },
  {
   "cell_type": "code",
   "execution_count": 51,
   "id": "1bc5117e-aebf-46b7-92b7-aa7c79fe41ab",
   "metadata": {},
   "outputs": [
    {
     "name": "stdout",
     "output_type": "stream",
     "text": [
      "Sheets disponíveis: ['Matriz']\n"
     ]
    }
   ],
   "source": [
    "xls = pd.read_excel(file_path, sheet_name=None)\n",
    "sheets = list(xls.keys())\n",
    "print(\"Sheets disponíveis:\", sheets)"
   ]
  },
  {
   "cell_type": "code",
   "execution_count": 53,
   "id": "3241acde-594a-4b3c-92c9-f7f26c7040d8",
   "metadata": {},
   "outputs": [],
   "source": [
    "@staticmethod\n",
    "def check_sheet_presence(file_path, sheet_name_to_find):\n",
    "    xls = pd.read_excel(file_path, sheet_name=None)\n",
    "    sheets = list(xls.keys())\n",
    "\n",
    "    try:\n",
    "        for sheet in sheets:\n",
    "            if sheet_name_to_find in sheet:\n",
    "                return 1  # encontrou a sheet\n",
    "            return 0  # não encontrou a sheet\n",
    "    except Exception as e:\n",
    "        return 0"
   ]
  },
  {
   "cell_type": "code",
   "execution_count": 54,
   "id": "310b3fd0-dfef-4f43-8bef-d15c47b5d1e5",
   "metadata": {},
   "outputs": [
    {
     "name": "stdout",
     "output_type": "stream",
     "text": [
      "Resultado: 0\n"
     ]
    }
   ],
   "source": [
    "result = check_sheet_presence(file_path, sheet_name)\n",
    "print(\"Resultado:\", result)"
   ]
  }
 ],
 "metadata": {
  "kernelspec": {
   "display_name": "Python 3 (ipykernel)",
   "language": "python",
   "name": "python3"
  },
  "language_info": {
   "codemirror_mode": {
    "name": "ipython",
    "version": 3
   },
   "file_extension": ".py",
   "mimetype": "text/x-python",
   "name": "python",
   "nbconvert_exporter": "python",
   "pygments_lexer": "ipython3",
   "version": "3.11.5"
  }
 },
 "nbformat": 4,
 "nbformat_minor": 5
}
